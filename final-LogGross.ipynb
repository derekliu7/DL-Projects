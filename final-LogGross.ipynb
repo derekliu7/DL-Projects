{
 "cells": [
  {
   "cell_type": "markdown",
   "metadata": {},
   "source": [
    "#### The main focus here is to discover the main factors of a high grossing movie\n",
    "#### Initial guess: Picture(which can be affected by budget), actors(popularity 'also effected by budget'), and director(popularity). "
   ]
  },
  {
   "cell_type": "code",
   "execution_count": 2,
   "metadata": {
    "collapsed": true
   },
   "outputs": [],
   "source": [
    "reset -fs"
   ]
  },
  {
   "cell_type": "code",
   "execution_count": 64,
   "metadata": {
    "collapsed": true
   },
   "outputs": [],
   "source": [
    "import pandas as pd\n",
    "import numpy as np\n",
    "import scipy\n",
    "from scipy import stats\n",
    "from scipy.stats import norm\n",
    "import matplotlib.pyplot as plt\n",
    "import statsmodels.api as sm\n",
    "import statsmodels.formula.api as smf\n",
    "from statsmodels.formula.api import ols\n",
    "import seaborn as sns\n",
    "%matplotlib inline\n",
    "pd.set_option('display.max_columns', 50)"
   ]
  },
  {
   "cell_type": "code",
   "execution_count": 65,
   "metadata": {
    "collapsed": false
   },
   "outputs": [
    {
     "data": {
      "text/html": [
       "<div>\n",
       "<table border=\"1\" class=\"dataframe\">\n",
       "  <thead>\n",
       "    <tr style=\"text-align: right;\">\n",
       "      <th></th>\n",
       "      <th>color</th>\n",
       "      <th>director_name</th>\n",
       "      <th>num_critic_for_reviews</th>\n",
       "      <th>duration</th>\n",
       "      <th>director_facebook_likes</th>\n",
       "      <th>actor_3_facebook_likes</th>\n",
       "      <th>actor_2_name</th>\n",
       "      <th>actor_1_facebook_likes</th>\n",
       "      <th>gross</th>\n",
       "      <th>genres</th>\n",
       "      <th>actor_1_name</th>\n",
       "      <th>movie_title</th>\n",
       "      <th>num_voted_users</th>\n",
       "      <th>cast_total_facebook_likes</th>\n",
       "      <th>actor_3_name</th>\n",
       "      <th>facenumber_in_poster</th>\n",
       "      <th>plot_keywords</th>\n",
       "      <th>movie_imdb_link</th>\n",
       "      <th>num_user_for_reviews</th>\n",
       "      <th>language</th>\n",
       "      <th>country</th>\n",
       "      <th>content_rating</th>\n",
       "      <th>budget</th>\n",
       "      <th>title_year</th>\n",
       "      <th>actor_2_facebook_likes</th>\n",
       "      <th>imdb_score</th>\n",
       "      <th>aspect_ratio</th>\n",
       "      <th>movie_facebook_likes</th>\n",
       "    </tr>\n",
       "  </thead>\n",
       "  <tbody>\n",
       "    <tr>\n",
       "      <th>0</th>\n",
       "      <td>Color</td>\n",
       "      <td>James Cameron</td>\n",
       "      <td>723.0</td>\n",
       "      <td>178.0</td>\n",
       "      <td>0.0</td>\n",
       "      <td>855.0</td>\n",
       "      <td>Joel David Moore</td>\n",
       "      <td>1000.0</td>\n",
       "      <td>760505847.0</td>\n",
       "      <td>Action|Adventure|Fantasy|Sci-Fi</td>\n",
       "      <td>CCH Pounder</td>\n",
       "      <td>Avatar</td>\n",
       "      <td>886204</td>\n",
       "      <td>4834</td>\n",
       "      <td>Wes Studi</td>\n",
       "      <td>0.0</td>\n",
       "      <td>avatar|future|marine|native|paraplegic</td>\n",
       "      <td>http://www.imdb.com/title/tt0499549/?ref_=fn_t...</td>\n",
       "      <td>3054.0</td>\n",
       "      <td>English</td>\n",
       "      <td>USA</td>\n",
       "      <td>PG-13</td>\n",
       "      <td>237000000.0</td>\n",
       "      <td>2009.0</td>\n",
       "      <td>936.0</td>\n",
       "      <td>7.9</td>\n",
       "      <td>1.78</td>\n",
       "      <td>33000</td>\n",
       "    </tr>\n",
       "    <tr>\n",
       "      <th>1</th>\n",
       "      <td>Color</td>\n",
       "      <td>Gore Verbinski</td>\n",
       "      <td>302.0</td>\n",
       "      <td>169.0</td>\n",
       "      <td>563.0</td>\n",
       "      <td>1000.0</td>\n",
       "      <td>Orlando Bloom</td>\n",
       "      <td>40000.0</td>\n",
       "      <td>309404152.0</td>\n",
       "      <td>Action|Adventure|Fantasy</td>\n",
       "      <td>Johnny Depp</td>\n",
       "      <td>Pirates of the Caribbean: At World's End</td>\n",
       "      <td>471220</td>\n",
       "      <td>48350</td>\n",
       "      <td>Jack Davenport</td>\n",
       "      <td>0.0</td>\n",
       "      <td>goddess|marriage ceremony|marriage proposal|pi...</td>\n",
       "      <td>http://www.imdb.com/title/tt0449088/?ref_=fn_t...</td>\n",
       "      <td>1238.0</td>\n",
       "      <td>English</td>\n",
       "      <td>USA</td>\n",
       "      <td>PG-13</td>\n",
       "      <td>300000000.0</td>\n",
       "      <td>2007.0</td>\n",
       "      <td>5000.0</td>\n",
       "      <td>7.1</td>\n",
       "      <td>2.35</td>\n",
       "      <td>0</td>\n",
       "    </tr>\n",
       "  </tbody>\n",
       "</table>\n",
       "</div>"
      ],
      "text/plain": [
       "   color   director_name  num_critic_for_reviews  duration  \\\n",
       "0  Color   James Cameron                   723.0     178.0   \n",
       "1  Color  Gore Verbinski                   302.0     169.0   \n",
       "\n",
       "   director_facebook_likes  actor_3_facebook_likes      actor_2_name  \\\n",
       "0                      0.0                   855.0  Joel David Moore   \n",
       "1                    563.0                  1000.0     Orlando Bloom   \n",
       "\n",
       "   actor_1_facebook_likes        gross                           genres  \\\n",
       "0                  1000.0  760505847.0  Action|Adventure|Fantasy|Sci-Fi   \n",
       "1                 40000.0  309404152.0         Action|Adventure|Fantasy   \n",
       "\n",
       "  actor_1_name                                movie_title  num_voted_users  \\\n",
       "0  CCH Pounder                                    Avatar            886204   \n",
       "1  Johnny Depp  Pirates of the Caribbean: At World's End            471220   \n",
       "\n",
       "   cast_total_facebook_likes    actor_3_name  facenumber_in_poster  \\\n",
       "0                       4834       Wes Studi                   0.0   \n",
       "1                      48350  Jack Davenport                   0.0   \n",
       "\n",
       "                                       plot_keywords  \\\n",
       "0             avatar|future|marine|native|paraplegic   \n",
       "1  goddess|marriage ceremony|marriage proposal|pi...   \n",
       "\n",
       "                                     movie_imdb_link  num_user_for_reviews  \\\n",
       "0  http://www.imdb.com/title/tt0499549/?ref_=fn_t...                3054.0   \n",
       "1  http://www.imdb.com/title/tt0449088/?ref_=fn_t...                1238.0   \n",
       "\n",
       "  language country content_rating       budget  title_year  \\\n",
       "0  English     USA          PG-13  237000000.0      2009.0   \n",
       "1  English     USA          PG-13  300000000.0      2007.0   \n",
       "\n",
       "   actor_2_facebook_likes  imdb_score  aspect_ratio  movie_facebook_likes  \n",
       "0                   936.0         7.9          1.78                 33000  \n",
       "1                  5000.0         7.1          2.35                     0  "
      ]
     },
     "execution_count": 65,
     "metadata": {},
     "output_type": "execute_result"
    }
   ],
   "source": [
    "movies = pd.read_csv('https://raw.githubusercontent.com/sundeepblue/movie_rating_prediction/master/movie_metadata.csv')\n",
    "movies.columns = [column.lower() for column in movies.columns]\n",
    "movies.head(2)"
   ]
  },
  {
   "cell_type": "code",
   "execution_count": 57,
   "metadata": {
    "collapsed": false
   },
   "outputs": [
    {
     "name": "stdout",
     "output_type": "stream",
     "text": [
      "['director_name', 'num_critic_for_reviews', 'duration', 'actor_2_name', 'gross', 'genres', 'actor_1_name', 'movie_title', 'num_voted_users', 'actor_3_name', 'facenumber_in_poster', 'plot_keywords', 'num_user_for_reviews', 'language', 'country', 'content_rating', 'budget', 'title_year', 'imdb_score']\n"
     ]
    }
   ],
   "source": [
    "col= movies.columns.tolist()\n",
    "newcol=[]\n",
    "removeset = ('color','actor_1_facebook_likes',\n",
    "           'actor_2_facebook_likes',\n",
    "           'actor_3_facebook_likes',\n",
    "           'actor_1_facebook_likes',\n",
    "          'director_facebook_likes',\n",
    "          'cast_total_facebook_likes',\n",
    "          'movie_imdb_link',\n",
    "          'aspect_ratio',\n",
    "          'movie_facebook_likes')\n",
    "for item in col:\n",
    "    if item not in removeset:\n",
    "        newcol.append(item)\n",
    "    \n",
    "print(newcol)"
   ]
  },
  {
   "cell_type": "code",
   "execution_count": 67,
   "metadata": {
    "collapsed": false
   },
   "outputs": [
    {
     "name": "stderr",
     "output_type": "stream",
     "text": [
      "/Users/DL/anaconda3/lib/python3.6/site-packages/ipykernel/__main__.py:2: UserWarning: Boolean Series key will be reindexed to match DataFrame index.\n",
      "  from ipykernel import kernelapp as app\n"
     ]
    },
    {
     "data": {
      "text/html": [
       "<div>\n",
       "<table border=\"1\" class=\"dataframe\">\n",
       "  <thead>\n",
       "    <tr style=\"text-align: right;\">\n",
       "      <th></th>\n",
       "      <th>color</th>\n",
       "      <th>director_name</th>\n",
       "      <th>num_critic_for_reviews</th>\n",
       "      <th>duration</th>\n",
       "      <th>director_facebook_likes</th>\n",
       "      <th>actor_3_facebook_likes</th>\n",
       "      <th>actor_2_name</th>\n",
       "      <th>actor_1_facebook_likes</th>\n",
       "      <th>gross</th>\n",
       "      <th>genres</th>\n",
       "      <th>actor_1_name</th>\n",
       "      <th>movie_title</th>\n",
       "      <th>num_voted_users</th>\n",
       "      <th>cast_total_facebook_likes</th>\n",
       "      <th>actor_3_name</th>\n",
       "      <th>facenumber_in_poster</th>\n",
       "      <th>plot_keywords</th>\n",
       "      <th>movie_imdb_link</th>\n",
       "      <th>num_user_for_reviews</th>\n",
       "      <th>language</th>\n",
       "      <th>country</th>\n",
       "      <th>content_rating</th>\n",
       "      <th>budget</th>\n",
       "      <th>title_year</th>\n",
       "      <th>actor_2_facebook_likes</th>\n",
       "      <th>imdb_score</th>\n",
       "      <th>aspect_ratio</th>\n",
       "      <th>movie_facebook_likes</th>\n",
       "    </tr>\n",
       "  </thead>\n",
       "  <tbody>\n",
       "    <tr>\n",
       "      <th>0</th>\n",
       "      <td>Color</td>\n",
       "      <td>James Cameron</td>\n",
       "      <td>723.0</td>\n",
       "      <td>178.0</td>\n",
       "      <td>0.0</td>\n",
       "      <td>855.0</td>\n",
       "      <td>Joel David Moore</td>\n",
       "      <td>1000.0</td>\n",
       "      <td>760505847.0</td>\n",
       "      <td>Action|Adventure|Fantasy|Sci-Fi</td>\n",
       "      <td>CCH Pounder</td>\n",
       "      <td>Avatar</td>\n",
       "      <td>886204</td>\n",
       "      <td>4834</td>\n",
       "      <td>Wes Studi</td>\n",
       "      <td>0.0</td>\n",
       "      <td>avatar|future|marine|native|paraplegic</td>\n",
       "      <td>http://www.imdb.com/title/tt0499549/?ref_=fn_t...</td>\n",
       "      <td>3054.0</td>\n",
       "      <td>English</td>\n",
       "      <td>USA</td>\n",
       "      <td>PG-13</td>\n",
       "      <td>237000000.0</td>\n",
       "      <td>2009.0</td>\n",
       "      <td>936.0</td>\n",
       "      <td>7.9</td>\n",
       "      <td>1.78</td>\n",
       "      <td>33000</td>\n",
       "    </tr>\n",
       "    <tr>\n",
       "      <th>1</th>\n",
       "      <td>Color</td>\n",
       "      <td>Gore Verbinski</td>\n",
       "      <td>302.0</td>\n",
       "      <td>169.0</td>\n",
       "      <td>563.0</td>\n",
       "      <td>1000.0</td>\n",
       "      <td>Orlando Bloom</td>\n",
       "      <td>40000.0</td>\n",
       "      <td>309404152.0</td>\n",
       "      <td>Action|Adventure|Fantasy</td>\n",
       "      <td>Johnny Depp</td>\n",
       "      <td>Pirates of the Caribbean: At World's End</td>\n",
       "      <td>471220</td>\n",
       "      <td>48350</td>\n",
       "      <td>Jack Davenport</td>\n",
       "      <td>0.0</td>\n",
       "      <td>goddess|marriage ceremony|marriage proposal|pi...</td>\n",
       "      <td>http://www.imdb.com/title/tt0449088/?ref_=fn_t...</td>\n",
       "      <td>1238.0</td>\n",
       "      <td>English</td>\n",
       "      <td>USA</td>\n",
       "      <td>PG-13</td>\n",
       "      <td>300000000.0</td>\n",
       "      <td>2007.0</td>\n",
       "      <td>5000.0</td>\n",
       "      <td>7.1</td>\n",
       "      <td>2.35</td>\n",
       "      <td>0</td>\n",
       "    </tr>\n",
       "  </tbody>\n",
       "</table>\n",
       "</div>"
      ],
      "text/plain": [
       "   color   director_name  num_critic_for_reviews  duration  \\\n",
       "0  Color   James Cameron                   723.0     178.0   \n",
       "1  Color  Gore Verbinski                   302.0     169.0   \n",
       "\n",
       "   director_facebook_likes  actor_3_facebook_likes      actor_2_name  \\\n",
       "0                      0.0                   855.0  Joel David Moore   \n",
       "1                    563.0                  1000.0     Orlando Bloom   \n",
       "\n",
       "   actor_1_facebook_likes        gross                           genres  \\\n",
       "0                  1000.0  760505847.0  Action|Adventure|Fantasy|Sci-Fi   \n",
       "1                 40000.0  309404152.0         Action|Adventure|Fantasy   \n",
       "\n",
       "  actor_1_name                                movie_title  num_voted_users  \\\n",
       "0  CCH Pounder                                    Avatar            886204   \n",
       "1  Johnny Depp  Pirates of the Caribbean: At World's End            471220   \n",
       "\n",
       "   cast_total_facebook_likes    actor_3_name  facenumber_in_poster  \\\n",
       "0                       4834       Wes Studi                   0.0   \n",
       "1                      48350  Jack Davenport                   0.0   \n",
       "\n",
       "                                       plot_keywords  \\\n",
       "0             avatar|future|marine|native|paraplegic   \n",
       "1  goddess|marriage ceremony|marriage proposal|pi...   \n",
       "\n",
       "                                     movie_imdb_link  num_user_for_reviews  \\\n",
       "0  http://www.imdb.com/title/tt0499549/?ref_=fn_t...                3054.0   \n",
       "1  http://www.imdb.com/title/tt0449088/?ref_=fn_t...                1238.0   \n",
       "\n",
       "  language country content_rating       budget  title_year  \\\n",
       "0  English     USA          PG-13  237000000.0      2009.0   \n",
       "1  English     USA          PG-13  300000000.0      2007.0   \n",
       "\n",
       "   actor_2_facebook_likes  imdb_score  aspect_ratio  movie_facebook_likes  \n",
       "0                   936.0         7.9          1.78                 33000  \n",
       "1                  5000.0         7.1          2.35                     0  "
      ]
     },
     "execution_count": 67,
     "metadata": {},
     "output_type": "execute_result"
    }
   ],
   "source": [
    "movies = movies.fillna(movies.median()).drop_duplicates(['movie_title','title_year'])\n",
    "movies_usa = movies[movies.country == 'USA'][movies.imdb_score >6.0][movies.title_year>1990]\n",
    "movies_usa.head(2)"
   ]
  },
  {
   "cell_type": "code",
   "execution_count": 70,
   "metadata": {
    "collapsed": false
   },
   "outputs": [
    {
     "data": {
      "text/html": [
       "<div>\n",
       "<table border=\"1\" class=\"dataframe\">\n",
       "  <thead>\n",
       "    <tr style=\"text-align: right;\">\n",
       "      <th></th>\n",
       "      <th>director_name</th>\n",
       "      <th>num_critic_for_reviews</th>\n",
       "      <th>duration</th>\n",
       "      <th>actor_2_name</th>\n",
       "      <th>gross</th>\n",
       "      <th>genres</th>\n",
       "      <th>actor_1_name</th>\n",
       "      <th>movie_title</th>\n",
       "      <th>num_voted_users</th>\n",
       "      <th>actor_3_name</th>\n",
       "      <th>facenumber_in_poster</th>\n",
       "      <th>plot_keywords</th>\n",
       "      <th>num_user_for_reviews</th>\n",
       "      <th>language</th>\n",
       "      <th>country</th>\n",
       "      <th>content_rating</th>\n",
       "      <th>budget</th>\n",
       "      <th>title_year</th>\n",
       "      <th>imdb_score</th>\n",
       "    </tr>\n",
       "  </thead>\n",
       "  <tbody>\n",
       "    <tr>\n",
       "      <th>0</th>\n",
       "      <td>James Cameron</td>\n",
       "      <td>723.0</td>\n",
       "      <td>178.0</td>\n",
       "      <td>Joel David Moore</td>\n",
       "      <td>760505847.0</td>\n",
       "      <td>Action|Adventure|Fantasy|Sci-Fi</td>\n",
       "      <td>CCH Pounder</td>\n",
       "      <td>Avatar</td>\n",
       "      <td>886204</td>\n",
       "      <td>Wes Studi</td>\n",
       "      <td>0.0</td>\n",
       "      <td>avatar|future|marine|native|paraplegic</td>\n",
       "      <td>3054.0</td>\n",
       "      <td>English</td>\n",
       "      <td>USA</td>\n",
       "      <td>PG-13</td>\n",
       "      <td>237000000.0</td>\n",
       "      <td>2009.0</td>\n",
       "      <td>7.9</td>\n",
       "    </tr>\n",
       "    <tr>\n",
       "      <th>26</th>\n",
       "      <td>James Cameron</td>\n",
       "      <td>315.0</td>\n",
       "      <td>194.0</td>\n",
       "      <td>Kate Winslet</td>\n",
       "      <td>658672302.0</td>\n",
       "      <td>Drama|Romance</td>\n",
       "      <td>Leonardo DiCaprio</td>\n",
       "      <td>Titanic</td>\n",
       "      <td>793059</td>\n",
       "      <td>Gloria Stuart</td>\n",
       "      <td>0.0</td>\n",
       "      <td>artist|love|ship|titanic|wet</td>\n",
       "      <td>2528.0</td>\n",
       "      <td>English</td>\n",
       "      <td>USA</td>\n",
       "      <td>PG-13</td>\n",
       "      <td>200000000.0</td>\n",
       "      <td>1997.0</td>\n",
       "      <td>7.7</td>\n",
       "    </tr>\n",
       "    <tr>\n",
       "      <th>29</th>\n",
       "      <td>Colin Trevorrow</td>\n",
       "      <td>644.0</td>\n",
       "      <td>124.0</td>\n",
       "      <td>Judy Greer</td>\n",
       "      <td>652177271.0</td>\n",
       "      <td>Action|Adventure|Sci-Fi|Thriller</td>\n",
       "      <td>Bryce Dallas Howard</td>\n",
       "      <td>Jurassic World</td>\n",
       "      <td>418214</td>\n",
       "      <td>Omar Sy</td>\n",
       "      <td>0.0</td>\n",
       "      <td>dinosaur|disaster film|experiment gone wrong|j...</td>\n",
       "      <td>1290.0</td>\n",
       "      <td>English</td>\n",
       "      <td>USA</td>\n",
       "      <td>PG-13</td>\n",
       "      <td>150000000.0</td>\n",
       "      <td>2015.0</td>\n",
       "      <td>7.0</td>\n",
       "    </tr>\n",
       "    <tr>\n",
       "      <th>17</th>\n",
       "      <td>Joss Whedon</td>\n",
       "      <td>703.0</td>\n",
       "      <td>173.0</td>\n",
       "      <td>Robert Downey Jr.</td>\n",
       "      <td>623279547.0</td>\n",
       "      <td>Action|Adventure|Sci-Fi</td>\n",
       "      <td>Chris Hemsworth</td>\n",
       "      <td>The Avengers</td>\n",
       "      <td>995415</td>\n",
       "      <td>Scarlett Johansson</td>\n",
       "      <td>3.0</td>\n",
       "      <td>alien invasion|assassin|battle|iron man|soldier</td>\n",
       "      <td>1722.0</td>\n",
       "      <td>English</td>\n",
       "      <td>USA</td>\n",
       "      <td>PG-13</td>\n",
       "      <td>220000000.0</td>\n",
       "      <td>2012.0</td>\n",
       "      <td>8.1</td>\n",
       "    </tr>\n",
       "    <tr>\n",
       "      <th>66</th>\n",
       "      <td>Christopher Nolan</td>\n",
       "      <td>645.0</td>\n",
       "      <td>152.0</td>\n",
       "      <td>Heath Ledger</td>\n",
       "      <td>533316061.0</td>\n",
       "      <td>Action|Crime|Drama|Thriller</td>\n",
       "      <td>Christian Bale</td>\n",
       "      <td>The Dark Knight</td>\n",
       "      <td>1676169</td>\n",
       "      <td>Morgan Freeman</td>\n",
       "      <td>0.0</td>\n",
       "      <td>based on comic book|dc comics|psychopath|star ...</td>\n",
       "      <td>4667.0</td>\n",
       "      <td>English</td>\n",
       "      <td>USA</td>\n",
       "      <td>PG-13</td>\n",
       "      <td>185000000.0</td>\n",
       "      <td>2008.0</td>\n",
       "      <td>9.0</td>\n",
       "    </tr>\n",
       "  </tbody>\n",
       "</table>\n",
       "</div>"
      ],
      "text/plain": [
       "        director_name  num_critic_for_reviews  duration       actor_2_name  \\\n",
       "0       James Cameron                   723.0     178.0   Joel David Moore   \n",
       "26      James Cameron                   315.0     194.0       Kate Winslet   \n",
       "29    Colin Trevorrow                   644.0     124.0         Judy Greer   \n",
       "17        Joss Whedon                   703.0     173.0  Robert Downey Jr.   \n",
       "66  Christopher Nolan                   645.0     152.0       Heath Ledger   \n",
       "\n",
       "          gross                            genres         actor_1_name  \\\n",
       "0   760505847.0   Action|Adventure|Fantasy|Sci-Fi          CCH Pounder   \n",
       "26  658672302.0                     Drama|Romance    Leonardo DiCaprio   \n",
       "29  652177271.0  Action|Adventure|Sci-Fi|Thriller  Bryce Dallas Howard   \n",
       "17  623279547.0           Action|Adventure|Sci-Fi      Chris Hemsworth   \n",
       "66  533316061.0       Action|Crime|Drama|Thriller       Christian Bale   \n",
       "\n",
       "         movie_title  num_voted_users        actor_3_name  \\\n",
       "0            Avatar            886204           Wes Studi   \n",
       "26          Titanic            793059       Gloria Stuart   \n",
       "29   Jurassic World            418214             Omar Sy   \n",
       "17     The Avengers            995415  Scarlett Johansson   \n",
       "66  The Dark Knight           1676169      Morgan Freeman   \n",
       "\n",
       "    facenumber_in_poster                                      plot_keywords  \\\n",
       "0                    0.0             avatar|future|marine|native|paraplegic   \n",
       "26                   0.0                       artist|love|ship|titanic|wet   \n",
       "29                   0.0  dinosaur|disaster film|experiment gone wrong|j...   \n",
       "17                   3.0    alien invasion|assassin|battle|iron man|soldier   \n",
       "66                   0.0  based on comic book|dc comics|psychopath|star ...   \n",
       "\n",
       "    num_user_for_reviews language country content_rating       budget  \\\n",
       "0                 3054.0  English     USA          PG-13  237000000.0   \n",
       "26                2528.0  English     USA          PG-13  200000000.0   \n",
       "29                1290.0  English     USA          PG-13  150000000.0   \n",
       "17                1722.0  English     USA          PG-13  220000000.0   \n",
       "66                4667.0  English     USA          PG-13  185000000.0   \n",
       "\n",
       "    title_year  imdb_score  \n",
       "0       2009.0         7.9  \n",
       "26      1997.0         7.7  \n",
       "29      2015.0         7.0  \n",
       "17      2012.0         8.1  \n",
       "66      2008.0         9.0  "
      ]
     },
     "execution_count": 70,
     "metadata": {},
     "output_type": "execute_result"
    }
   ],
   "source": [
    "movies_usa=movies_usa.sort_values(by=['gross'], ascending=False)[newcol]\n",
    "movies_usa.head()"
   ]
  },
  {
   "cell_type": "code",
   "execution_count": 118,
   "metadata": {
    "collapsed": false
   },
   "outputs": [
    {
     "data": {
      "text/html": [
       "<div>\n",
       "<table border=\"1\" class=\"dataframe\">\n",
       "  <thead>\n",
       "    <tr style=\"text-align: right;\">\n",
       "      <th></th>\n",
       "      <th>num_critic_for_reviews</th>\n",
       "      <th>duration</th>\n",
       "      <th>gross</th>\n",
       "      <th>num_voted_users</th>\n",
       "      <th>facenumber_in_poster</th>\n",
       "      <th>num_user_for_reviews</th>\n",
       "      <th>budget</th>\n",
       "      <th>title_year</th>\n",
       "      <th>imdb_score</th>\n",
       "      <th>loggross</th>\n",
       "    </tr>\n",
       "  </thead>\n",
       "  <tbody>\n",
       "    <tr>\n",
       "      <th>count</th>\n",
       "      <td>2083.000000</td>\n",
       "      <td>2083.000000</td>\n",
       "      <td>2.083000e+03</td>\n",
       "      <td>2.083000e+03</td>\n",
       "      <td>2083.000000</td>\n",
       "      <td>2083.000000</td>\n",
       "      <td>2.083000e+03</td>\n",
       "      <td>2083.000000</td>\n",
       "      <td>2083.000000</td>\n",
       "      <td>2083.000000</td>\n",
       "    </tr>\n",
       "    <tr>\n",
       "      <th>mean</th>\n",
       "      <td>175.677388</td>\n",
       "      <td>109.049448</td>\n",
       "      <td>5.939462e+07</td>\n",
       "      <td>1.241699e+05</td>\n",
       "      <td>1.375900</td>\n",
       "      <td>357.213154</td>\n",
       "      <td>4.010071e+07</td>\n",
       "      <td>2005.503120</td>\n",
       "      <td>6.950216</td>\n",
       "      <td>16.825783</td>\n",
       "    </tr>\n",
       "    <tr>\n",
       "      <th>std</th>\n",
       "      <td>137.669007</td>\n",
       "      <td>25.411785</td>\n",
       "      <td>7.776961e+07</td>\n",
       "      <td>1.741741e+05</td>\n",
       "      <td>2.157874</td>\n",
       "      <td>459.499572</td>\n",
       "      <td>4.591060e+07</td>\n",
       "      <td>6.321621</td>\n",
       "      <td>0.605501</td>\n",
       "      <td>2.069629</td>\n",
       "    </tr>\n",
       "    <tr>\n",
       "      <th>min</th>\n",
       "      <td>1.000000</td>\n",
       "      <td>11.000000</td>\n",
       "      <td>1.111000e+03</td>\n",
       "      <td>5.000000e+00</td>\n",
       "      <td>0.000000</td>\n",
       "      <td>1.000000</td>\n",
       "      <td>2.180000e+02</td>\n",
       "      <td>1991.000000</td>\n",
       "      <td>6.100000</td>\n",
       "      <td>7.013016</td>\n",
       "    </tr>\n",
       "    <tr>\n",
       "      <th>25%</th>\n",
       "      <td>75.000000</td>\n",
       "      <td>95.000000</td>\n",
       "      <td>1.126567e+07</td>\n",
       "      <td>1.862700e+04</td>\n",
       "      <td>0.000000</td>\n",
       "      <td>102.000000</td>\n",
       "      <td>1.000000e+07</td>\n",
       "      <td>2001.000000</td>\n",
       "      <td>6.500000</td>\n",
       "      <td>16.237256</td>\n",
       "    </tr>\n",
       "    <tr>\n",
       "      <th>50%</th>\n",
       "      <td>146.000000</td>\n",
       "      <td>107.000000</td>\n",
       "      <td>3.065982e+07</td>\n",
       "      <td>6.354800e+04</td>\n",
       "      <td>1.000000</td>\n",
       "      <td>215.000000</td>\n",
       "      <td>2.200000e+07</td>\n",
       "      <td>2006.000000</td>\n",
       "      <td>6.900000</td>\n",
       "      <td>17.238463</td>\n",
       "    </tr>\n",
       "    <tr>\n",
       "      <th>75%</th>\n",
       "      <td>240.500000</td>\n",
       "      <td>121.000000</td>\n",
       "      <td>7.571177e+07</td>\n",
       "      <td>1.619475e+05</td>\n",
       "      <td>2.000000</td>\n",
       "      <td>436.500000</td>\n",
       "      <td>5.200000e+07</td>\n",
       "      <td>2011.000000</td>\n",
       "      <td>7.300000</td>\n",
       "      <td>18.142444</td>\n",
       "    </tr>\n",
       "    <tr>\n",
       "      <th>max</th>\n",
       "      <td>813.000000</td>\n",
       "      <td>330.000000</td>\n",
       "      <td>7.605058e+08</td>\n",
       "      <td>1.689764e+06</td>\n",
       "      <td>43.000000</td>\n",
       "      <td>4667.000000</td>\n",
       "      <td>3.000000e+08</td>\n",
       "      <td>2016.000000</td>\n",
       "      <td>9.300000</td>\n",
       "      <td>20.449494</td>\n",
       "    </tr>\n",
       "  </tbody>\n",
       "</table>\n",
       "</div>"
      ],
      "text/plain": [
       "       num_critic_for_reviews     duration         gross  num_voted_users  \\\n",
       "count             2083.000000  2083.000000  2.083000e+03     2.083000e+03   \n",
       "mean               175.677388   109.049448  5.939462e+07     1.241699e+05   \n",
       "std                137.669007    25.411785  7.776961e+07     1.741741e+05   \n",
       "min                  1.000000    11.000000  1.111000e+03     5.000000e+00   \n",
       "25%                 75.000000    95.000000  1.126567e+07     1.862700e+04   \n",
       "50%                146.000000   107.000000  3.065982e+07     6.354800e+04   \n",
       "75%                240.500000   121.000000  7.571177e+07     1.619475e+05   \n",
       "max                813.000000   330.000000  7.605058e+08     1.689764e+06   \n",
       "\n",
       "       facenumber_in_poster  num_user_for_reviews        budget   title_year  \\\n",
       "count           2083.000000           2083.000000  2.083000e+03  2083.000000   \n",
       "mean               1.375900            357.213154  4.010071e+07  2005.503120   \n",
       "std                2.157874            459.499572  4.591060e+07     6.321621   \n",
       "min                0.000000              1.000000  2.180000e+02  1991.000000   \n",
       "25%                0.000000            102.000000  1.000000e+07  2001.000000   \n",
       "50%                1.000000            215.000000  2.200000e+07  2006.000000   \n",
       "75%                2.000000            436.500000  5.200000e+07  2011.000000   \n",
       "max               43.000000           4667.000000  3.000000e+08  2016.000000   \n",
       "\n",
       "        imdb_score     loggross  \n",
       "count  2083.000000  2083.000000  \n",
       "mean      6.950216    16.825783  \n",
       "std       0.605501     2.069629  \n",
       "min       6.100000     7.013016  \n",
       "25%       6.500000    16.237256  \n",
       "50%       6.900000    17.238463  \n",
       "75%       7.300000    18.142444  \n",
       "max       9.300000    20.449494  "
      ]
     },
     "execution_count": 118,
     "metadata": {},
     "output_type": "execute_result"
    }
   ],
   "source": [
    "movies_usa.describe()"
   ]
  },
  {
   "cell_type": "code",
   "execution_count": 119,
   "metadata": {
    "collapsed": false
   },
   "outputs": [
    {
     "data": {
      "image/png": "[encoded data removed]",
      "text/plain": [
       "<matplotlib.figure.Figure at 0x1164f60b8>"
      ]
     },
     "metadata": {},
     "output_type": "display_data"
    }
   ],
   "source": [
    "movies_usa['gross'].hist();"
   ]
  },
  {
   "cell_type": "code",
   "execution_count": 72,
   "metadata": {
    "collapsed": false
   },
   "outputs": [],
   "source": [
    "grossing = movies_usa['gross']\n",
    "\n",
    "movies_usa['loggross']=np.log(grossing)"
   ]
  },
  {
   "cell_type": "code",
   "execution_count": 76,
   "metadata": {
    "collapsed": false
   },
   "outputs": [
    {
     "data": {
      "image/png": "[encoded data removed]",
      "text/plain": [
       "<matplotlib.figure.Figure at 0x1158c6400>"
      ]
     },
     "metadata": {},
     "output_type": "display_data"
    }
   ],
   "source": [
    "x=movies_usa['loggross']\n",
    "μ, σ = norm.fit(x)\n",
    "plt.hist(x,range=[min(x),max(x)], normed=True)\n",
    "plt.hist(movies_usa['loggross'], normed=True)\n",
    "xmin, xmax = plt.xlim()\n",
    "x = np.linspace(xmin, xmax, 100)\n",
    "p = norm.pdf(x, μ, σ)\n",
    "plt.plot(x, p, 'k', linewidth=2);\n",
    "title = \"Fit results: mu = {:.2f},  std = {:.2f}\".format(μ, σ)\n",
    "plt.title(title);"
   ]
  },
  {
   "cell_type": "code",
   "execution_count": 104,
   "metadata": {
    "collapsed": false
   },
   "outputs": [
    {
     "data": {
      "text/plain": [
       "R        945\n",
       "PG-13    669\n",
       "Name: content_rating, dtype: int64"
      ]
     },
     "execution_count": 104,
     "metadata": {},
     "output_type": "execute_result"
    }
   ],
   "source": [
    "movies_rate=movies_usa[movies_usa.content_rating.isin(['R','PG-13'])]\n",
    "movies_rate.content_rating.value_counts()"
   ]
  },
  {
   "cell_type": "code",
   "execution_count": 115,
   "metadata": {
    "collapsed": false
   },
   "outputs": [
    {
     "data": {
      "text/html": [
       "<table class=\"simpletable\">\n",
       "<caption>OLS Regression Results</caption>\n",
       "<tr>\n",
       "  <th>Dep. Variable:</th>        <td>loggross</td>     <th>  R-squared:         </th> <td>   0.306</td> \n",
       "</tr>\n",
       "<tr>\n",
       "  <th>Model:</th>                   <td>OLS</td>       <th>  Adj. R-squared:    </th> <td>   0.304</td> \n",
       "</tr>\n",
       "<tr>\n",
       "  <th>Method:</th>             <td>Least Squares</td>  <th>  F-statistic:       </th> <td>   236.2</td> \n",
       "</tr>\n",
       "<tr>\n",
       "  <th>Date:</th>             <td>Wed, 08 Mar 2017</td> <th>  Prob (F-statistic):</th> <td>5.58e-127</td>\n",
       "</tr>\n",
       "<tr>\n",
       "  <th>Time:</th>                 <td>15:36:11</td>     <th>  Log-Likelihood:    </th> <td> -3110.1</td> \n",
       "</tr>\n",
       "<tr>\n",
       "  <th>No. Observations:</th>      <td>  1614</td>      <th>  AIC:               </th> <td>   6228.</td> \n",
       "</tr>\n",
       "<tr>\n",
       "  <th>Df Residuals:</th>          <td>  1610</td>      <th>  BIC:               </th> <td>   6250.</td> \n",
       "</tr>\n",
       "<tr>\n",
       "  <th>Df Model:</th>              <td>     3</td>      <th>                     </th>     <td> </td>    \n",
       "</tr>\n",
       "<tr>\n",
       "  <th>Covariance Type:</th>      <td>nonrobust</td>    <th>                     </th>     <td> </td>    \n",
       "</tr>\n",
       "</table>\n",
       "<table class=\"simpletable\">\n",
       "<tr>\n",
       "           <td></td>              <th>coef</th>     <th>std err</th>      <th>t</th>      <th>P>|t|</th> <th>[95.0% Conf. Int.]</th> \n",
       "</tr>\n",
       "<tr>\n",
       "  <th>Intercept</th>           <td>   13.3673</td> <td>    0.489</td> <td>   27.347</td> <td> 0.000</td> <td>   12.409    14.326</td>\n",
       "</tr>\n",
       "<tr>\n",
       "  <th>content_rating[T.R]</th> <td>   -0.5012</td> <td>    0.090</td> <td>   -5.548</td> <td> 0.000</td> <td>   -0.678    -0.324</td>\n",
       "</tr>\n",
       "<tr>\n",
       "  <th>budget</th>              <td> 2.163e-08</td> <td> 1.01e-09</td> <td>   21.485</td> <td> 0.000</td> <td> 1.97e-08  2.36e-08</td>\n",
       "</tr>\n",
       "<tr>\n",
       "  <th>imdb_score</th>          <td>    0.4195</td> <td>    0.071</td> <td>    5.913</td> <td> 0.000</td> <td>    0.280     0.559</td>\n",
       "</tr>\n",
       "</table>\n",
       "<table class=\"simpletable\">\n",
       "<tr>\n",
       "  <th>Omnibus:</th>       <td>512.677</td> <th>  Durbin-Watson:     </th> <td>   0.378</td>\n",
       "</tr>\n",
       "<tr>\n",
       "  <th>Prob(Omnibus):</th> <td> 0.000</td>  <th>  Jarque-Bera (JB):  </th> <td>1531.414</td>\n",
       "</tr>\n",
       "<tr>\n",
       "  <th>Skew:</th>          <td>-1.620</td>  <th>  Prob(JB):          </th> <td>    0.00</td>\n",
       "</tr>\n",
       "<tr>\n",
       "  <th>Kurtosis:</th>      <td> 6.503</td>  <th>  Cond. No.          </th> <td>7.02e+08</td>\n",
       "</tr>\n",
       "</table>"
      ],
      "text/plain": [
       "<class 'statsmodels.iolib.summary.Summary'>\n",
       "\"\"\"\n",
       "                            OLS Regression Results                            \n",
       "==============================================================================\n",
       "Dep. Variable:               loggross   R-squared:                       0.306\n",
       "Model:                            OLS   Adj. R-squared:                  0.304\n",
       "Method:                 Least Squares   F-statistic:                     236.2\n",
       "Date:                Wed, 08 Mar 2017   Prob (F-statistic):          5.58e-127\n",
       "Time:                        15:36:11   Log-Likelihood:                -3110.1\n",
       "No. Observations:                1614   AIC:                             6228.\n",
       "Df Residuals:                    1610   BIC:                             6250.\n",
       "Df Model:                           3                                         \n",
       "Covariance Type:            nonrobust                                         \n",
       "=======================================================================================\n",
       "                          coef    std err          t      P>|t|      [95.0% Conf. Int.]\n",
       "---------------------------------------------------------------------------------------\n",
       "Intercept              13.3673      0.489     27.347      0.000        12.409    14.326\n",
       "content_rating[T.R]    -0.5012      0.090     -5.548      0.000        -0.678    -0.324\n",
       "budget               2.163e-08   1.01e-09     21.485      0.000      1.97e-08  2.36e-08\n",
       "imdb_score              0.4195      0.071      5.913      0.000         0.280     0.559\n",
       "==============================================================================\n",
       "Omnibus:                      512.677   Durbin-Watson:                   0.378\n",
       "Prob(Omnibus):                  0.000   Jarque-Bera (JB):             1531.414\n",
       "Skew:                          -1.620   Prob(JB):                         0.00\n",
       "Kurtosis:                       6.503   Cond. No.                     7.02e+08\n",
       "==============================================================================\n",
       "\n",
       "Warnings:\n",
       "[1] Standard Errors assume that the covariance matrix of the errors is correctly specified.\n",
       "[2] The condition number is large, 7.02e+08. This might indicate that there are\n",
       "strong multicollinearity or other numerical problems.\n",
       "\"\"\""
      ]
     },
     "execution_count": 115,
     "metadata": {},
     "output_type": "execute_result"
    }
   ],
   "source": [
    "smf.ols(formula=\"loggross ~ content_rating+budget+imdb_score\", data=movies_rate).fit().summary()"
   ]
  },
  {
   "cell_type": "markdown",
   "metadata": {},
   "source": [
    "__$H_0$:  The gross income of movies will not be affected by year__\n",
    "\n",
    "__$H_a$:  The gross income of movies will be affected by year__"
   ]
  },
  {
   "cell_type": "code",
   "execution_count": 111,
   "metadata": {
    "collapsed": false
   },
   "outputs": [
    {
     "data": {
      "text/html": [
       "<div>\n",
       "<table border=\"1\" class=\"dataframe\">\n",
       "  <thead>\n",
       "    <tr style=\"text-align: right;\">\n",
       "      <th></th>\n",
       "      <th>num_critic_for_reviews</th>\n",
       "      <th>duration</th>\n",
       "      <th>gross</th>\n",
       "      <th>num_voted_users</th>\n",
       "      <th>facenumber_in_poster</th>\n",
       "      <th>num_user_for_reviews</th>\n",
       "      <th>budget</th>\n",
       "      <th>title_year</th>\n",
       "      <th>imdb_score</th>\n",
       "      <th>loggross</th>\n",
       "    </tr>\n",
       "  </thead>\n",
       "  <tbody>\n",
       "    <tr>\n",
       "      <th>count</th>\n",
       "      <td>421.000000</td>\n",
       "      <td>421.000000</td>\n",
       "      <td>4.210000e+02</td>\n",
       "      <td>4.210000e+02</td>\n",
       "      <td>421.000000</td>\n",
       "      <td>421.000000</td>\n",
       "      <td>4.210000e+02</td>\n",
       "      <td>421.000000</td>\n",
       "      <td>421.000000</td>\n",
       "      <td>421.000000</td>\n",
       "    </tr>\n",
       "    <tr>\n",
       "      <th>mean</th>\n",
       "      <td>302.724466</td>\n",
       "      <td>114.712589</td>\n",
       "      <td>7.195692e+07</td>\n",
       "      <td>1.559756e+05</td>\n",
       "      <td>1.707838</td>\n",
       "      <td>361.938242</td>\n",
       "      <td>4.886935e+07</td>\n",
       "      <td>2013.137767</td>\n",
       "      <td>6.912589</td>\n",
       "      <td>17.203247</td>\n",
       "    </tr>\n",
       "    <tr>\n",
       "      <th>std</th>\n",
       "      <td>168.948245</td>\n",
       "      <td>20.997405</td>\n",
       "      <td>9.086541e+07</td>\n",
       "      <td>1.682143e+05</td>\n",
       "      <td>2.601769</td>\n",
       "      <td>397.801088</td>\n",
       "      <td>5.724767e+07</td>\n",
       "      <td>1.529091</td>\n",
       "      <td>0.585343</td>\n",
       "      <td>1.815004</td>\n",
       "    </tr>\n",
       "    <tr>\n",
       "      <th>min</th>\n",
       "      <td>1.000000</td>\n",
       "      <td>75.000000</td>\n",
       "      <td>3.330000e+03</td>\n",
       "      <td>6.000000e+00</td>\n",
       "      <td>0.000000</td>\n",
       "      <td>1.000000</td>\n",
       "      <td>4.200000e+04</td>\n",
       "      <td>2011.000000</td>\n",
       "      <td>6.100000</td>\n",
       "      <td>8.110728</td>\n",
       "    </tr>\n",
       "    <tr>\n",
       "      <th>25%</th>\n",
       "      <td>178.000000</td>\n",
       "      <td>100.000000</td>\n",
       "      <td>1.773857e+07</td>\n",
       "      <td>4.128800e+04</td>\n",
       "      <td>0.000000</td>\n",
       "      <td>118.000000</td>\n",
       "      <td>1.200000e+07</td>\n",
       "      <td>2012.000000</td>\n",
       "      <td>6.500000</td>\n",
       "      <td>16.691252</td>\n",
       "    </tr>\n",
       "    <tr>\n",
       "      <th>50%</th>\n",
       "      <td>285.000000</td>\n",
       "      <td>111.000000</td>\n",
       "      <td>4.100853e+07</td>\n",
       "      <td>1.012870e+05</td>\n",
       "      <td>1.000000</td>\n",
       "      <td>242.000000</td>\n",
       "      <td>2.800000e+07</td>\n",
       "      <td>2013.000000</td>\n",
       "      <td>6.800000</td>\n",
       "      <td>17.529291</td>\n",
       "    </tr>\n",
       "    <tr>\n",
       "      <th>75%</th>\n",
       "      <td>415.000000</td>\n",
       "      <td>126.000000</td>\n",
       "      <td>8.689718e+07</td>\n",
       "      <td>2.122040e+05</td>\n",
       "      <td>2.000000</td>\n",
       "      <td>461.000000</td>\n",
       "      <td>6.000000e+07</td>\n",
       "      <td>2014.000000</td>\n",
       "      <td>7.300000</td>\n",
       "      <td>18.280236</td>\n",
       "    </tr>\n",
       "    <tr>\n",
       "      <th>max</th>\n",
       "      <td>813.000000</td>\n",
       "      <td>240.000000</td>\n",
       "      <td>6.521773e+08</td>\n",
       "      <td>1.144337e+06</td>\n",
       "      <td>31.000000</td>\n",
       "      <td>3018.000000</td>\n",
       "      <td>2.637000e+08</td>\n",
       "      <td>2016.000000</td>\n",
       "      <td>8.600000</td>\n",
       "      <td>20.295827</td>\n",
       "    </tr>\n",
       "  </tbody>\n",
       "</table>\n",
       "</div>"
      ],
      "text/plain": [
       "       num_critic_for_reviews    duration         gross  num_voted_users  \\\n",
       "count              421.000000  421.000000  4.210000e+02     4.210000e+02   \n",
       "mean               302.724466  114.712589  7.195692e+07     1.559756e+05   \n",
       "std                168.948245   20.997405  9.086541e+07     1.682143e+05   \n",
       "min                  1.000000   75.000000  3.330000e+03     6.000000e+00   \n",
       "25%                178.000000  100.000000  1.773857e+07     4.128800e+04   \n",
       "50%                285.000000  111.000000  4.100853e+07     1.012870e+05   \n",
       "75%                415.000000  126.000000  8.689718e+07     2.122040e+05   \n",
       "max                813.000000  240.000000  6.521773e+08     1.144337e+06   \n",
       "\n",
       "       facenumber_in_poster  num_user_for_reviews        budget   title_year  \\\n",
       "count            421.000000            421.000000  4.210000e+02   421.000000   \n",
       "mean               1.707838            361.938242  4.886935e+07  2013.137767   \n",
       "std                2.601769            397.801088  5.724767e+07     1.529091   \n",
       "min                0.000000              1.000000  4.200000e+04  2011.000000   \n",
       "25%                0.000000            118.000000  1.200000e+07  2012.000000   \n",
       "50%                1.000000            242.000000  2.800000e+07  2013.000000   \n",
       "75%                2.000000            461.000000  6.000000e+07  2014.000000   \n",
       "max               31.000000           3018.000000  2.637000e+08  2016.000000   \n",
       "\n",
       "       imdb_score    loggross  \n",
       "count  421.000000  421.000000  \n",
       "mean     6.912589   17.203247  \n",
       "std      0.585343    1.815004  \n",
       "min      6.100000    8.110728  \n",
       "25%      6.500000   16.691252  \n",
       "50%      6.800000   17.529291  \n",
       "75%      7.300000   18.280236  \n",
       "max      8.600000   20.295827  "
      ]
     },
     "execution_count": 111,
     "metadata": {},
     "output_type": "execute_result"
    }
   ],
   "source": [
    "movie_year=movies_rate[movies_rate.title_year > 2010]\n",
    "movie_year.describe()"
   ]
  },
  {
   "cell_type": "code",
   "execution_count": 113,
   "metadata": {
    "collapsed": false
   },
   "outputs": [
    {
     "name": "stderr",
     "output_type": "stream",
     "text": [
      "/Users/DL/anaconda3/lib/python3.6/site-packages/pandas/core/generic.py:2773: SettingWithCopyWarning: \n",
      "A value is trying to be set on a copy of a slice from a DataFrame.\n",
      "Try using .loc[row_indexer,col_indexer] = value instead\n",
      "\n",
      "See the caveats in the documentation: http://pandas.pydata.org/pandas-docs/stable/indexing.html#indexing-view-versus-copy\n",
      "  self[name] = value\n"
     ]
    }
   ],
   "source": [
    "movie_year.title_year=movie_year.title_year.astype(str)"
   ]
  },
  {
   "cell_type": "code",
   "execution_count": 117,
   "metadata": {
    "collapsed": false
   },
   "outputs": [
    {
     "data": {
      "text/html": [
       "<table class=\"simpletable\">\n",
       "<caption>OLS Regression Results</caption>\n",
       "<tr>\n",
       "  <th>Dep. Variable:</th>        <td>loggross</td>     <th>  R-squared:         </th> <td>   0.012</td>\n",
       "</tr>\n",
       "<tr>\n",
       "  <th>Model:</th>                   <td>OLS</td>       <th>  Adj. R-squared:    </th> <td>   0.000</td>\n",
       "</tr>\n",
       "<tr>\n",
       "  <th>Method:</th>             <td>Least Squares</td>  <th>  F-statistic:       </th> <td>   1.018</td>\n",
       "</tr>\n",
       "<tr>\n",
       "  <th>Date:</th>             <td>Wed, 08 Mar 2017</td> <th>  Prob (F-statistic):</th>  <td> 0.406</td> \n",
       "</tr>\n",
       "<tr>\n",
       "  <th>Time:</th>                 <td>15:38:50</td>     <th>  Log-Likelihood:    </th> <td> -845.26</td>\n",
       "</tr>\n",
       "<tr>\n",
       "  <th>No. Observations:</th>      <td>   421</td>      <th>  AIC:               </th> <td>   1703.</td>\n",
       "</tr>\n",
       "<tr>\n",
       "  <th>Df Residuals:</th>          <td>   415</td>      <th>  BIC:               </th> <td>   1727.</td>\n",
       "</tr>\n",
       "<tr>\n",
       "  <th>Df Model:</th>              <td>     5</td>      <th>                     </th>     <td> </td>   \n",
       "</tr>\n",
       "<tr>\n",
       "  <th>Covariance Type:</th>      <td>nonrobust</td>    <th>                     </th>     <td> </td>   \n",
       "</tr>\n",
       "</table>\n",
       "<table class=\"simpletable\">\n",
       "<tr>\n",
       "            <td></td>              <th>coef</th>     <th>std err</th>      <th>t</th>      <th>P>|t|</th> <th>[95.0% Conf. Int.]</th> \n",
       "</tr>\n",
       "<tr>\n",
       "  <th>Intercept</th>            <td>   16.9450</td> <td>    0.205</td> <td>   82.463</td> <td> 0.000</td> <td>   16.541    17.349</td>\n",
       "</tr>\n",
       "<tr>\n",
       "  <th>title_year[T.2012.0]</th> <td>    0.2112</td> <td>    0.290</td> <td>    0.729</td> <td> 0.466</td> <td>   -0.358     0.781</td>\n",
       "</tr>\n",
       "<tr>\n",
       "  <th>title_year[T.2013.0]</th> <td>    0.3634</td> <td>    0.279</td> <td>    1.301</td> <td> 0.194</td> <td>   -0.186     0.912</td>\n",
       "</tr>\n",
       "<tr>\n",
       "  <th>title_year[T.2014.0]</th> <td>    0.2095</td> <td>    0.286</td> <td>    0.732</td> <td> 0.464</td> <td>   -0.353     0.772</td>\n",
       "</tr>\n",
       "<tr>\n",
       "  <th>title_year[T.2015.0]</th> <td>    0.2618</td> <td>    0.316</td> <td>    0.828</td> <td> 0.408</td> <td>   -0.360     0.883</td>\n",
       "</tr>\n",
       "<tr>\n",
       "  <th>title_year[T.2016.0]</th> <td>    0.8221</td> <td>    0.381</td> <td>    2.158</td> <td> 0.032</td> <td>    0.073     1.571</td>\n",
       "</tr>\n",
       "</table>\n",
       "<table class=\"simpletable\">\n",
       "<tr>\n",
       "  <th>Omnibus:</th>       <td>167.102</td> <th>  Durbin-Watson:     </th> <td>   0.026</td> \n",
       "</tr>\n",
       "<tr>\n",
       "  <th>Prob(Omnibus):</th> <td> 0.000</td>  <th>  Jarque-Bera (JB):  </th> <td> 632.564</td> \n",
       "</tr>\n",
       "<tr>\n",
       "  <th>Skew:</th>          <td>-1.781</td>  <th>  Prob(JB):          </th> <td>4.37e-138</td>\n",
       "</tr>\n",
       "<tr>\n",
       "  <th>Kurtosis:</th>      <td> 7.835</td>  <th>  Cond. No.          </th> <td>    6.69</td> \n",
       "</tr>\n",
       "</table>"
      ],
      "text/plain": [
       "<class 'statsmodels.iolib.summary.Summary'>\n",
       "\"\"\"\n",
       "                            OLS Regression Results                            \n",
       "==============================================================================\n",
       "Dep. Variable:               loggross   R-squared:                       0.012\n",
       "Model:                            OLS   Adj. R-squared:                  0.000\n",
       "Method:                 Least Squares   F-statistic:                     1.018\n",
       "Date:                Wed, 08 Mar 2017   Prob (F-statistic):              0.406\n",
       "Time:                        15:38:50   Log-Likelihood:                -845.26\n",
       "No. Observations:                 421   AIC:                             1703.\n",
       "Df Residuals:                     415   BIC:                             1727.\n",
       "Df Model:                           5                                         \n",
       "Covariance Type:            nonrobust                                         \n",
       "========================================================================================\n",
       "                           coef    std err          t      P>|t|      [95.0% Conf. Int.]\n",
       "----------------------------------------------------------------------------------------\n",
       "Intercept               16.9450      0.205     82.463      0.000        16.541    17.349\n",
       "title_year[T.2012.0]     0.2112      0.290      0.729      0.466        -0.358     0.781\n",
       "title_year[T.2013.0]     0.3634      0.279      1.301      0.194        -0.186     0.912\n",
       "title_year[T.2014.0]     0.2095      0.286      0.732      0.464        -0.353     0.772\n",
       "title_year[T.2015.0]     0.2618      0.316      0.828      0.408        -0.360     0.883\n",
       "title_year[T.2016.0]     0.8221      0.381      2.158      0.032         0.073     1.571\n",
       "==============================================================================\n",
       "Omnibus:                      167.102   Durbin-Watson:                   0.026\n",
       "Prob(Omnibus):                  0.000   Jarque-Bera (JB):              632.564\n",
       "Skew:                          -1.781   Prob(JB):                    4.37e-138\n",
       "Kurtosis:                       7.835   Cond. No.                         6.69\n",
       "==============================================================================\n",
       "\n",
       "Warnings:\n",
       "[1] Standard Errors assume that the covariance matrix of the errors is correctly specified.\n",
       "\"\"\""
      ]
     },
     "execution_count": 117,
     "metadata": {},
     "output_type": "execute_result"
    }
   ],
   "source": [
    "smf.ols(formula=\"loggross ~ title_year\", data=movie_year).fit().summary()"
   ]
  },
  {
   "cell_type": "code",
   "execution_count": null,
   "metadata": {
    "collapsed": true
   },
   "outputs": [],
   "source": []
  },
  {
   "cell_type": "code",
   "execution_count": 100,
   "metadata": {
    "collapsed": false
   },
   "outputs": [
    {
     "data": {
      "text/plain": [
       "\"x = movies_usa['imdb_score']\\ny = movies_usa['loggross']\\nf, (ax1, ax2) = plt.subplots(1, 2, figsize = (12,5))\\n\\nax1.scatter(x,y,alpha=0.5)\\nax1.set_title('IMDB VS loggross',fontsize=16)\\nax1.set_xlabel('imdb_score',fontsize=16)\\nax1.set_ylabel('loggross',fontsize=16)\\nhxb=ax2.hexbin(x,y,alpha=0.5,cmap='inferno',bins='log',gridsize=30)\\nax2.set_title('IMDB VS loggross',fontsize=16)\\nax2.set_xlabel('imdb_score',fontsize=16)\\nax2.set_ylabel('loggross',fontsize=16)\\ncb = f.colorbar(hxb, ax=ax2)\\ncb.set_label('Density',fontsize=14)\""
      ]
     },
     "execution_count": 100,
     "metadata": {},
     "output_type": "execute_result"
    }
   ],
   "source": [
    "\"\"\"x = movies_usa['imdb_score']\n",
    "y = movies_usa['loggross']\n",
    "f, (ax1, ax2) = plt.subplots(1, 2, figsize = (12,5))\n",
    "\n",
    "ax1.scatter(x,y,alpha=0.5)\n",
    "ax1.set_title('IMDB VS loggross',fontsize=16)\n",
    "ax1.set_xlabel('imdb_score',fontsize=16)\n",
    "ax1.set_ylabel('loggross',fontsize=16)\n",
    "hxb=ax2.hexbin(x,y,alpha=0.5,cmap='inferno',bins='log',gridsize=30)\n",
    "ax2.set_title('IMDB VS loggross',fontsize=16)\n",
    "ax2.set_xlabel('imdb_score',fontsize=16)\n",
    "ax2.set_ylabel('loggross',fontsize=16)\n",
    "cb = f.colorbar(hxb, ax=ax2)\n",
    "cb.set_label('Density',fontsize=14)\"\"\""
   ]
  },
  {
   "cell_type": "code",
   "execution_count": 101,
   "metadata": {
    "collapsed": false
   },
   "outputs": [
    {
     "data": {
      "text/plain": [
       "'g_score_model = ols(\"loggross ~ imdb_score\", data=movies_usa).fit()\\ng_score_model.summary()'"
      ]
     },
     "execution_count": 101,
     "metadata": {},
     "output_type": "execute_result"
    }
   ],
   "source": [
    "\"\"\"g_score_model = ols(\"loggross ~ imdb_score\", data=movies_usa).fit()\n",
    "g_score_model.summary()\"\"\""
   ]
  },
  {
   "cell_type": "code",
   "execution_count": 102,
   "metadata": {
    "collapsed": false
   },
   "outputs": [
    {
     "data": {
      "text/plain": [
       "\"x = movies_usa['budget']\\ny = movies_usa['loggross']\\nf, (ax1, ax2) = plt.subplots(1, 2, figsize = (12,5))\\n\\nax1.scatter(x,y,alpha=0.5)\\nax1.set_title('Budget VS logGross',fontsize=16)\\nax1.set_xlabel('budget',fontsize=16)\\nax1.set_ylabel('loggross',fontsize=16)\\nhxb=ax2.hexbin(x,y,alpha=0.5,cmap='inferno',bins='log',gridsize=30)\\nax2.set_title('Budget VS logGross',fontsize=16)\\nax2.set_xlabel('budget',fontsize=16)\\nax2.set_ylabel('loggross',fontsize=16)\\ncb = f.colorbar(hxb, ax=ax2)\\ncb.set_label('Density',fontsize=14)\""
      ]
     },
     "execution_count": 102,
     "metadata": {},
     "output_type": "execute_result"
    }
   ],
   "source": [
    "\"\"\"x = movies_usa['budget']\n",
    "y = movies_usa['loggross']\n",
    "f, (ax1, ax2) = plt.subplots(1, 2, figsize = (12,5))\n",
    "\n",
    "ax1.scatter(x,y,alpha=0.5)\n",
    "ax1.set_title('Budget VS logGross',fontsize=16)\n",
    "ax1.set_xlabel('budget',fontsize=16)\n",
    "ax1.set_ylabel('loggross',fontsize=16)\n",
    "hxb=ax2.hexbin(x,y,alpha=0.5,cmap='inferno',bins='log',gridsize=30)\n",
    "ax2.set_title('Budget VS logGross',fontsize=16)\n",
    "ax2.set_xlabel('budget',fontsize=16)\n",
    "ax2.set_ylabel('loggross',fontsize=16)\n",
    "cb = f.colorbar(hxb, ax=ax2)\n",
    "cb.set_label('Density',fontsize=14)\"\"\""
   ]
  },
  {
   "cell_type": "code",
   "execution_count": 103,
   "metadata": {
    "collapsed": false
   },
   "outputs": [
    {
     "data": {
      "text/plain": [
       "'g_b_model = ols(\"loggross ~ budget\", data=movies_usa).fit()\\ng_b_model.summary()'"
      ]
     },
     "execution_count": 103,
     "metadata": {},
     "output_type": "execute_result"
    }
   ],
   "source": [
    "\"\"\"g_b_model = ols(\"loggross ~ budget\", data=movies_usa).fit()\n",
    "g_b_model.summary()\"\"\""
   ]
  },
  {
   "cell_type": "code",
   "execution_count": 106,
   "metadata": {
    "collapsed": false
   },
   "outputs": [
    {
     "data": {
      "text/plain": [
       "\"movies_usa['content_rating'].value_counts().plot(kind = 'bar');\""
      ]
     },
     "execution_count": 106,
     "metadata": {},
     "output_type": "execute_result"
    }
   ],
   "source": [
    "\"\"\"movies_usa['content_rating'].value_counts().plot(kind = 'bar');\"\"\""
   ]
  },
  {
   "cell_type": "code",
   "execution_count": 116,
   "metadata": {
    "collapsed": false
   },
   "outputs": [
    {
     "data": {
      "text/plain": [
       "'rate_g = smf.ols(formula=\"loggross ~ content_rating\", data=movies_rate).fit()\\nrate_g.summary()'"
      ]
     },
     "execution_count": 116,
     "metadata": {},
     "output_type": "execute_result"
    }
   ],
   "source": [
    "\"\"\"rate_g = smf.ols(formula=\"loggross ~ content_rating\", data=movies_rate).fit()\n",
    "rate_g.summary()\"\"\""
   ]
  },
  {
   "cell_type": "code",
   "execution_count": 112,
   "metadata": {
    "collapsed": false
   },
   "outputs": [
    {
     "data": {
      "image/png": "[encoded data removed]",
      "text/plain": [
       "<matplotlib.figure.Figure at 0x11307d160>"
      ]
     },
     "metadata": {},
     "output_type": "display_data"
    }
   ],
   "source": [
    "#movie_year.title_year.value_counts().plot(kind = 'bar');"
   ]
  },
  {
   "cell_type": "code",
   "execution_count": null,
   "metadata": {
    "collapsed": true
   },
   "outputs": [],
   "source": []
  }
 ],
 "metadata": {
  "kernelspec": {
   "display_name": "Python 3",
   "language": "python",
   "name": "python3"
  },
  "language_info": {
   "codemirror_mode": {
    "name": "ipython",
    "version": 3
   },
   "file_extension": ".py",
   "mimetype": "text/x-python",
   "name": "python",
   "nbconvert_exporter": "python",
   "pygments_lexer": "ipython3",
   "version": "3.6.0"
  }
 },
 "nbformat": 4,
 "nbformat_minor": 2
}
